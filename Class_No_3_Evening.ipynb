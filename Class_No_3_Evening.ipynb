{
 "cells": [
  {
   "cell_type": "code",
   "execution_count": null,
   "id": "34148432-d894-4ffc-8a2a-bc549cdbd06b",
   "metadata": {},
   "outputs": [],
   "source": [
    "# Task: Make a calculator (Math Library), using tkinter library. \n",
    "# Make choices for choosing the operation. \n",
    "# Give proper gui to your calculator: PYAUTOGUI.\n",
    "# make the calculator so that it can run without jupyter or python. "
   ]
  },
  {
   "cell_type": "code",
   "execution_count": 1,
   "id": "227a1236-5df8-4ec7-9eeb-b1a02b10a4c9",
   "metadata": {},
   "outputs": [],
   "source": [
    "# Types of scripting: \n",
    "# Shell Scripting: Automates the process of Operating System....file Automation."
   ]
  },
  {
   "cell_type": "code",
   "execution_count": 2,
   "id": "52fe00a0-899d-4b46-ba9d-a156bb5079e6",
   "metadata": {},
   "outputs": [],
   "source": [
    "# Example: File manipulation, Batch Process, OS Library  etc"
   ]
  },
  {
   "cell_type": "code",
   "execution_count": 3,
   "id": "e4c4165e-09bd-470d-b226-b0056c714448",
   "metadata": {},
   "outputs": [],
   "source": [
    "# Web Scripting: Let suppose we have no data set related to our problem...... \n",
    "# Use for making"
   ]
  },
  {
   "cell_type": "code",
   "execution_count": 6,
   "id": "a7ae8f0a-54a1-4bb6-864e-9055b1e9ff79",
   "metadata": {},
   "outputs": [],
   "source": [
    "# our own data set, Automates the Browser Actions etc. It is also known \n",
    "# as web scrapping"
   ]
  },
  {
   "cell_type": "code",
   "execution_count": 7,
   "id": "321ea477-9a2c-48cd-a968-28773300e81a",
   "metadata": {},
   "outputs": [],
   "source": [
    "# Beautiful Soup, BS4, Selenium, Requests, etc"
   ]
  },
  {
   "cell_type": "code",
   "execution_count": 8,
   "id": "c0c4ea51-8625-4e70-81ee-34205c1b3e13",
   "metadata": {},
   "outputs": [],
   "source": [
    "# Data Scripting: Processing tasks like EDA (Exploratory Data Analysis)"
   ]
  },
  {
   "cell_type": "code",
   "execution_count": 11,
   "id": "3291fa04-5b73-44fd-8084-1066daea0b49",
   "metadata": {},
   "outputs": [],
   "source": [
    "# Data --> cleaning: Duplication, Null Values, Wrong Data \n",
    "# (Pandas info(): Details of the data set)\n",
    "# details like missing values, data type, etc"
   ]
  },
  {
   "cell_type": "code",
   "execution_count": 10,
   "id": "3edbade4-211b-4b16-a80a-1e767ec4b788",
   "metadata": {},
   "outputs": [],
   "source": [
    "# Libraries: Numpy, Pandas, Matplotlib, Seaborn etc"
   ]
  },
  {
   "cell_type": "code",
   "execution_count": 12,
   "id": "e3a3d813-6edd-4713-b2ac-27409e07e5a4",
   "metadata": {},
   "outputs": [],
   "source": [
    "# Matplotlib: Data visualize in automate process."
   ]
  },
  {
   "cell_type": "code",
   "execution_count": 13,
   "id": "d022b71e-2c1f-46ba-8924-a23b21c1402e",
   "metadata": {},
   "outputs": [],
   "source": [
    "# Removing the wrong format data, Removing and adjusting the wrong data"
   ]
  },
  {
   "cell_type": "code",
   "execution_count": 14,
   "id": "a651557e-b9e4-4de9-ab11-700f426d134a",
   "metadata": {},
   "outputs": [],
   "source": [
    "# Removing the null values or handling the nul values."
   ]
  },
  {
   "cell_type": "code",
   "execution_count": 15,
   "id": "252f7510-a070-4019-aef0-c50833ea8cf2",
   "metadata": {},
   "outputs": [],
   "source": [
    "# Game Scripting: Handling the events, Manipluates the game objects."
   ]
  },
  {
   "cell_type": "code",
   "execution_count": 16,
   "id": "603c1c82-1b9a-47af-bb43-9845fbb0eb21",
   "metadata": {},
   "outputs": [],
   "source": [
    "# Pygame, Arcade  etc"
   ]
  },
  {
   "cell_type": "code",
   "execution_count": 19,
   "id": "4dbee1a8-8fe3-449a-95b2-b2d0584514a0",
   "metadata": {},
   "outputs": [],
   "source": [
    "# Automation Scripting: Repetitive tasks, events, Sending the emails etc"
   ]
  },
  {
   "cell_type": "code",
   "execution_count": 20,
   "id": "4c635b57-60ce-4f2a-bf01-2946bd0b7760",
   "metadata": {},
   "outputs": [],
   "source": [
    "# Pyautogui, smtlib etc"
   ]
  },
  {
   "cell_type": "code",
   "execution_count": 21,
   "id": "bc8f324b-3c3d-4791-bab8-d17ccb7fff4b",
   "metadata": {},
   "outputs": [],
   "source": [
    "# Arithemtic operations: Addition, Subtraction, Multiplication, Division, Power, "
   ]
  },
  {
   "cell_type": "code",
   "execution_count": 22,
   "id": "a22de54d-f2ee-4458-b636-93e492453342",
   "metadata": {},
   "outputs": [],
   "source": [
    "# Modulus, Exponetial etc"
   ]
  },
  {
   "cell_type": "code",
   "execution_count": 23,
   "id": "44f378a4-a6eb-4796-9800-8ae3ea91b7b4",
   "metadata": {},
   "outputs": [],
   "source": [
    "# Math Library: Addition, sub etc"
   ]
  },
  {
   "cell_type": "code",
   "execution_count": 24,
   "id": "2fa647e0-eac4-4093-884f-cdfab34a8d09",
   "metadata": {},
   "outputs": [],
   "source": [
    "# Addition: +"
   ]
  },
  {
   "cell_type": "code",
   "execution_count": 25,
   "id": "d95eb3dc-db52-49ec-b2e3-72d7e0e5e8a7",
   "metadata": {},
   "outputs": [
    {
     "name": "stdin",
     "output_type": "stream",
     "text": [
      "Enter the first number: 45\n",
      "Enter the second number: 45\n"
     ]
    },
    {
     "name": "stdout",
     "output_type": "stream",
     "text": [
      "The Addition of the two number is:  90\n"
     ]
    }
   ],
   "source": [
    "#Addition: +\n",
    "Num_1 = int(input(\"Enter the first number:\"))\n",
    "Num_2 = int(input(\"Enter the second number:\"))\n",
    "Sum = Num_1 + Num_2\n",
    "print(\"The Addition of the two number is: \" , Sum)"
   ]
  },
  {
   "cell_type": "code",
   "execution_count": 26,
   "id": "8cf26281-143a-4607-bdfe-9c2dd4162820",
   "metadata": {},
   "outputs": [
    {
     "name": "stdin",
     "output_type": "stream",
     "text": [
      "Enter the first number: 34\n",
      "Enter the second number: 45\n"
     ]
    },
    {
     "name": "stdout",
     "output_type": "stream",
     "text": [
      "The Addition of the two number is:  -11\n"
     ]
    }
   ],
   "source": [
    "#Subtraction: -\n",
    "Num_3 = int(input(\"Enter the first number:\"))\n",
    "Num_4 = int(input(\"Enter the second number:\"))\n",
    "Sub = Num_3 - Num_4\n",
    "print(\"The Difference of the two number is: \" , Sub)"
   ]
  },
  {
   "cell_type": "code",
   "execution_count": 27,
   "id": "fcc4f025-5c3b-4612-9b45-013cfa62ce8f",
   "metadata": {},
   "outputs": [
    {
     "name": "stdin",
     "output_type": "stream",
     "text": [
      "Enter the first number: 45\n",
      "Enter the second number: 45\n"
     ]
    },
    {
     "name": "stdout",
     "output_type": "stream",
     "text": [
      "The Product of the two number is:  2025\n"
     ]
    }
   ],
   "source": [
    "#Multiplication: *\n",
    "Num_5 = int(input(\"Enter the first number:\"))\n",
    "Num_6 = int(input(\"Enter the second number:\"))\n",
    "Mul = Num_5 * Num_6\n",
    "print(\"The Product of the two number is: \" , Mul)"
   ]
  },
  {
   "cell_type": "code",
   "execution_count": 29,
   "id": "88717725-7106-496e-bba4-c59308abafe7",
   "metadata": {},
   "outputs": [
    {
     "name": "stdin",
     "output_type": "stream",
     "text": [
      "Enter the first number: 78\n",
      "Enter the second number: 79\n"
     ]
    },
    {
     "name": "stdout",
     "output_type": "stream",
     "text": [
      "The Quotient of the two number is:  0.9873417721518988\n"
     ]
    }
   ],
   "source": [
    "#Division: /\n",
    "Num_7 = int(input(\"Enter the first number:\"))\n",
    "Num_8 = int(input(\"Enter the second number:\"))\n",
    "Div = Num_7 / Num_8\n",
    "print(\"The Quotient of the two number is: \" , Div)"
   ]
  },
  {
   "cell_type": "code",
   "execution_count": 30,
   "id": "70f779b9-aced-4cea-941e-d1314199cf42",
   "metadata": {},
   "outputs": [
    {
     "name": "stdin",
     "output_type": "stream",
     "text": [
      "Enter the base number: 9\n",
      "Enter the value of power:  3\n"
     ]
    },
    {
     "name": "stdout",
     "output_type": "stream",
     "text": [
      "The final answer is:  729\n"
     ]
    }
   ],
   "source": [
    "# Exponent: **  (Square root, cuberoot, forth root upto nth root)\n",
    "Num_9 = int(input(\"Enter the base number:\"))\n",
    "Num_10 = int(input(\"Enter the value of power: \"))\n",
    "Exp = Num_9**Num_10\n",
    "print(\"The final answer is: \", Exp)"
   ]
  },
  {
   "cell_type": "code",
   "execution_count": 31,
   "id": "20ed3021-c5a2-4f27-9d4f-2b83ec55364a",
   "metadata": {},
   "outputs": [
    {
     "name": "stdin",
     "output_type": "stream",
     "text": [
      "Enter the base value:  45\n",
      "Enter the expontial value: 5\n"
     ]
    },
    {
     "ename": "NameError",
     "evalue": "name 'math' is not defined",
     "output_type": "error",
     "traceback": [
      "\u001b[1;31m---------------------------------------------------------------------------\u001b[0m",
      "\u001b[1;31mNameError\u001b[0m                                 Traceback (most recent call last)",
      "Cell \u001b[1;32mIn[31], line 3\u001b[0m\n\u001b[0;32m      1\u001b[0m base \u001b[38;5;241m=\u001b[39m \u001b[38;5;28mint\u001b[39m(\u001b[38;5;28minput\u001b[39m(\u001b[38;5;124m\"\u001b[39m\u001b[38;5;124mEnter the base value: \u001b[39m\u001b[38;5;124m\"\u001b[39m))\n\u001b[0;32m      2\u001b[0m exponent \u001b[38;5;241m=\u001b[39m \u001b[38;5;28mint\u001b[39m(\u001b[38;5;28minput\u001b[39m(\u001b[38;5;124m\"\u001b[39m\u001b[38;5;124mEnter the expontial value:\u001b[39m\u001b[38;5;124m\"\u001b[39m))\n\u001b[1;32m----> 3\u001b[0m result \u001b[38;5;241m=\u001b[39m math\u001b[38;5;241m.\u001b[39mpow(base, exponent)\n\u001b[0;32m      4\u001b[0m \u001b[38;5;28mprint\u001b[39m(\u001b[38;5;124m\"\u001b[39m\u001b[38;5;124mThe Power of the given number is: \u001b[39m\u001b[38;5;124m\"\u001b[39m, result)\n",
      "\u001b[1;31mNameError\u001b[0m: name 'math' is not defined"
     ]
    }
   ],
   "source": [
    "base = int(input(\"Enter the base value: \"))\n",
    "exponent = int(input(\"Enter the expontial value:\"))\n",
    "result = math.pow(base, exponent)\n",
    "print(\"The Power of the given number is: \", result)"
   ]
  },
  {
   "cell_type": "code",
   "execution_count": 32,
   "id": "1d37b293-3702-476e-ae39-99f127a43bbe",
   "metadata": {},
   "outputs": [
    {
     "name": "stdin",
     "output_type": "stream",
     "text": [
      "Enter the base value:  3\n",
      "Enter the expontial value: 3\n"
     ]
    },
    {
     "name": "stdout",
     "output_type": "stream",
     "text": [
      "The Power of the given number is:  27.0\n"
     ]
    }
   ],
   "source": [
    "# Calculation of Power using Math Library\n",
    "import math\n",
    "base = int(input(\"Enter the base value: \"))\n",
    "exponent = int(input(\"Enter the expontial value:\"))\n",
    "result = math.pow(base, exponent)   #Here we have the POW function (Math library part)\n",
    "print(\"The Power of the given number is: \", result)"
   ]
  },
  {
   "cell_type": "code",
   "execution_count": 34,
   "id": "39947d24-42c7-4884-9075-9ff2c7ebaa2b",
   "metadata": {},
   "outputs": [
    {
     "name": "stdin",
     "output_type": "stream",
     "text": [
      "Enter the Number value:  16\n"
     ]
    },
    {
     "name": "stdout",
     "output_type": "stream",
     "text": [
      "The Power of the given number is:  4.0\n"
     ]
    }
   ],
   "source": [
    "# Calculation of Square root using Math Library\n",
    "import math\n",
    "Num_11 = int(input(\"Enter the Number value: \"))\n",
    "result_sq = math.sqrt(Num_11)   #Here we have the POW function (Math library part)\n",
    "print(\"The Power of the given number is: \", result_sq)"
   ]
  },
  {
   "cell_type": "code",
   "execution_count": 36,
   "id": "75c88d38-2eed-4c0c-9cff-4e37be221042",
   "metadata": {},
   "outputs": [
    {
     "name": "stdin",
     "output_type": "stream",
     "text": [
      "Enter the Number value:  90\n"
     ]
    },
    {
     "ename": "AttributeError",
     "evalue": "module 'math' has no attribute 'squareroot'",
     "output_type": "error",
     "traceback": [
      "\u001b[1;31m---------------------------------------------------------------------------\u001b[0m",
      "\u001b[1;31mAttributeError\u001b[0m                            Traceback (most recent call last)",
      "Cell \u001b[1;32mIn[36], line 4\u001b[0m\n\u001b[0;32m      2\u001b[0m \u001b[38;5;28;01mimport\u001b[39;00m \u001b[38;5;21;01mmath\u001b[39;00m\n\u001b[0;32m      3\u001b[0m Num_11 \u001b[38;5;241m=\u001b[39m \u001b[38;5;28mint\u001b[39m(\u001b[38;5;28minput\u001b[39m(\u001b[38;5;124m\"\u001b[39m\u001b[38;5;124mEnter the Number value: \u001b[39m\u001b[38;5;124m\"\u001b[39m))\n\u001b[1;32m----> 4\u001b[0m result_sq \u001b[38;5;241m=\u001b[39m math\u001b[38;5;241m.\u001b[39msquareroot(Num_11)   \u001b[38;5;66;03m#Here we have the POW function (Math library part)\u001b[39;00m\n\u001b[0;32m      5\u001b[0m \u001b[38;5;28mprint\u001b[39m(\u001b[38;5;124m\"\u001b[39m\u001b[38;5;124mThe Power of the given number is: \u001b[39m\u001b[38;5;124m\"\u001b[39m, result_sq)\n",
      "\u001b[1;31mAttributeError\u001b[0m: module 'math' has no attribute 'squareroot'"
     ]
    }
   ],
   "source": [
    "# Calculation of Square root using Math Library\n",
    "import math\n",
    "Num_11 = int(input(\"Enter the Number value: \"))\n",
    "result_sq = math.squareroot(Num_11)   #Here we have the POW function (Math library part)\n",
    "print(\"The Power of the given number is: \", result_sq)"
   ]
  },
  {
   "cell_type": "code",
   "execution_count": 37,
   "id": "566eac1c-78be-42de-9f22-402a126c6081",
   "metadata": {},
   "outputs": [
    {
     "name": "stdin",
     "output_type": "stream",
     "text": [
      "Enter the Number value:  27\n"
     ]
    },
    {
     "name": "stdout",
     "output_type": "stream",
     "text": [
      "The Power of the given number is:  3\n"
     ]
    }
   ],
   "source": [
    "# Calculation of Cube root using Math Library\n",
    "import math\n",
    "Num_12 = int(input(\"Enter the Number value: \"))\n",
    "result_cube = math.ceil(Num_12**(1/3))   #Here we have the POW function (Math library part)\n",
    "print(\"The Power of the given number is: \", result_cube )"
   ]
  },
  {
   "cell_type": "code",
   "execution_count": 38,
   "id": "74be37b0-c9bd-4792-b4c1-f200ad5fa3c0",
   "metadata": {},
   "outputs": [
    {
     "name": "stdin",
     "output_type": "stream",
     "text": [
      "Enter the Number value:  64\n"
     ]
    },
    {
     "name": "stdout",
     "output_type": "stream",
     "text": [
      "The Power of the given number is:  3\n"
     ]
    }
   ],
   "source": [
    "# Calculation of Cube root using Math Library\n",
    "import math\n",
    "Num_13 = int(input(\"Enter the Number value: \"))\n",
    "result_forth = math.ceil(Num_13**(1/4))   #Here we have the POW function \n",
    "# (Math library part)\n",
    "print(\"The Power of the given number is: \", result_forth )"
   ]
  },
  {
   "cell_type": "code",
   "execution_count": 41,
   "id": "5d0ca409-d514-4300-a928-af2eb2dfb37d",
   "metadata": {},
   "outputs": [
    {
     "name": "stdin",
     "output_type": "stream",
     "text": [
      "Enter the Number value:  90\n"
     ]
    },
    {
     "name": "stdout",
     "output_type": "stream",
     "text": [
      "The Power of the given number is:  -1.995200412208242\n"
     ]
    }
   ],
   "source": [
    "# Calculation of Trignometric function using Math Library\n",
    "import math\n",
    "Num_14 = int(input(\"Enter the Number value: \"))\n",
    "result_trig = math.tan(Num_14)\n",
    "# (Math library part)\n",
    "print(\"The Power of the given number is: \", result_trig )"
   ]
  },
  {
   "cell_type": "code",
   "execution_count": 42,
   "id": "4011c84d-3fa7-4ffa-9873-a97be61d3b04",
   "metadata": {},
   "outputs": [],
   "source": [
    "# Conditional Operators: <, >, <=, >=, ==, !="
   ]
  },
  {
   "cell_type": "code",
   "execution_count": 43,
   "id": "3aa4b15e-6dcc-435c-8f10-0883170c14ed",
   "metadata": {},
   "outputs": [],
   "source": [
    "# CNIC Example"
   ]
  },
  {
   "cell_type": "code",
   "execution_count": 50,
   "id": "bb800c60-8619-49ef-84f8-6c6dca851476",
   "metadata": {},
   "outputs": [
    {
     "name": "stdin",
     "output_type": "stream",
     "text": [
      "Enter the age of the citizen:  19\n"
     ]
    },
    {
     "name": "stdout",
     "output_type": "stream",
     "text": [
      "Your age is:  19\n",
      "You aren't eligible for CNIC Making process:  False\n",
      "You are eligible for CNIC Making process:  False\n",
      "You aren't eligible for CNIC Making process:  True\n",
      "You are eligible for CNIC Making process:  True\n"
     ]
    }
   ],
   "source": [
    "Age = int(input(\"Enter the age of the citizen: \"))\n",
    "print(\"Your age is: \", Age)\n",
    "print(\"You aren't eligible for CNIC Making process: \", Age<18)\n",
    "print(\"You are eligible for CNIC Making process: \", Age==18)\n",
    "print(\"You aren't eligible for CNIC Making process: \", Age!=18)\n",
    "print(\"You are eligible for CNIC Making process: \", Age>18)"
   ]
  },
  {
   "cell_type": "code",
   "execution_count": 64,
   "id": "a3a317b7-e180-4bf0-ab4d-8cceb05fed49",
   "metadata": {},
   "outputs": [
    {
     "name": "stdin",
     "output_type": "stream",
     "text": [
      "Enter your marks:  708\n"
     ]
    },
    {
     "name": "stdout",
     "output_type": "stream",
     "text": [
      "Congrats you have passed your exam\n"
     ]
    }
   ],
   "source": [
    "marks = int(input(\"Enter your marks: \"))\n",
    "if(marks == 40):\n",
    "            print(\"Congrats you have passed your exam\")\n",
    "elif(marks > 40):\n",
    "            print(\"Congrats you have passed your exam\")   \n",
    "elif(marks < 40):\n",
    "            print(\"Sorry! Better luck Next Time\")  \n",
    "else:\n",
    "    print(\"Invalid Input\")"
   ]
  },
  {
   "cell_type": "code",
   "execution_count": 65,
   "id": "fb475cea-5d41-4b6c-94b3-d3a01f50e489",
   "metadata": {},
   "outputs": [
    {
     "name": "stdin",
     "output_type": "stream",
     "text": [
      "Enter your marks:  16\n"
     ]
    },
    {
     "name": "stdout",
     "output_type": "stream",
     "text": [
      "Sorry! You are not eligible for driving on roads\n"
     ]
    }
   ],
   "source": [
    "Eli = int(input(\"Enter your marks: \"))\n",
    "if(Eli == 18):\n",
    "            print(\"You are eligible for making the driving liscence\")\n",
    "elif(Eli > 18):\n",
    "            print(\"You are eligible for making the driving liscence\")   \n",
    "elif(Eli < 18):\n",
    "            print(\"Sorry! You are not eligible for driving on roads\")  \n",
    "else:\n",
    "    print(\"Invalid Input\")"
   ]
  },
  {
   "cell_type": "code",
   "execution_count": 70,
   "id": "3c5a6b27-d2b6-42ca-ac2d-de7e429ead13",
   "metadata": {},
   "outputs": [
    {
     "name": "stdout",
     "output_type": "stream",
     "text": [
      "1958990637456\n"
     ]
    }
   ],
   "source": [
    "you = 257\n",
    "print(id(you))"
   ]
  },
  {
   "cell_type": "code",
   "execution_count": null,
   "id": "5afbe63d-6138-4499-bfa6-55e4a0a14b18",
   "metadata": {},
   "outputs": [],
   "source": []
  }
 ],
 "metadata": {
  "kernelspec": {
   "display_name": "Python 3 (ipykernel)",
   "language": "python",
   "name": "python3"
  },
  "language_info": {
   "codemirror_mode": {
    "name": "ipython",
    "version": 3
   },
   "file_extension": ".py",
   "mimetype": "text/x-python",
   "name": "python",
   "nbconvert_exporter": "python",
   "pygments_lexer": "ipython3",
   "version": "3.12.7"
  }
 },
 "nbformat": 4,
 "nbformat_minor": 5
}
